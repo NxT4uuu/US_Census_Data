{
 "cells": [
  {
   "cell_type": "code",
   "execution_count": null,
   "id": "e202955a",
   "metadata": {
    "vscode": {
     "languageId": "plaintext"
    }
   },
   "outputs": [],
   "source": [
    "import pandas as pd \n",
    "import numpy as np \n",
    "import matplotlib.pyplot as plt \n",
    "import glob\n",
    "\n",
    "glob = glob.glob(\"states*.csv\")\n"
   ]
  }
 ],
 "metadata": {
  "language_info": {
   "name": "python"
  }
 },
 "nbformat": 4,
 "nbformat_minor": 5
}
